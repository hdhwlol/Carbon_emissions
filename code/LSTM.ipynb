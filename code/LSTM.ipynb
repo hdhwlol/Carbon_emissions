{
 "cells": [
  {
   "cell_type": "code",
   "execution_count": 56,
   "metadata": {},
   "outputs": [],
   "source": [
    "import pandas as pd\n",
    "import numpy as np\n",
    "import matplotlib.pyplot as plt\n",
    "plt.rcParams[\"font.sans-serif\"]=[\"SimHei\"] #设置字体\n",
    "plt.rcParams[\"axes.unicode_minus\"]=False #该语句解决图像中的“-”负号的乱码问题\n",
    "%matplotlib inline\n",
    "from sklearn.preprocessing import StandardScaler\n",
    "import seaborn as sns\n",
    "import time\n",
    "import math\n",
    "from tqdm import tqdm\n",
    "from sklearn.preprocessing import StandardScaler\n",
    "from sklearn.feature_selection import VarianceThreshold\n",
    "import os\n",
    "from sklearn.ensemble import RandomForestRegressor\n",
    "import joblib\n",
    "from torch.optim.lr_scheduler import StepLR\n",
    "from LSTM.config import Config\n",
    "from LSTM.EarlyStopping import EarlyStopping\n",
    "from LSTM.model1 import LSTM,BiLSTM"
   ]
  },
  {
   "cell_type": "code",
   "execution_count": 57,
   "metadata": {},
   "outputs": [],
   "source": [
    "import torch\n",
    "from torch import nn \n",
    "from torch.utils.data import Dataset,DataLoader\n"
   ]
  },
  {
   "cell_type": "code",
   "execution_count": 86,
   "metadata": {},
   "outputs": [
    {
     "data": {
      "text/plain": [
       "device(type='cpu')"
      ]
     },
     "execution_count": 86,
     "metadata": {},
     "output_type": "execute_result"
    }
   ],
   "source": [
    "device = torch.device('cuda' if torch.cuda.is_available() else 'cpu')\n",
    "device"
   ]
  },
  {
   "cell_type": "code",
   "execution_count": 87,
   "metadata": {},
   "outputs": [],
   "source": [
    "def DataLoader_tolist(load):\n",
    "    l1 = []\n",
    "    for l in load:\n",
    "        l1.append(l)\n",
    "    return l1"
   ]
  },
  {
   "cell_type": "code",
   "execution_count": 108,
   "metadata": {},
   "outputs": [
    {
     "data": {
      "text/plain": [
       "2000    736.250475\n",
       "2001    733.348364\n",
       "2002    722.529652\n",
       "2003    704.345102\n",
       "2004    746.373703\n",
       "2005    763.779886\n",
       "2006    771.871754\n",
       "2007    787.139241\n",
       "2008    799.857388\n",
       "2009    808.907265\n",
       "2010    813.788299\n",
       "2011    817.210283\n",
       "2012    826.616856\n",
       "2013    817.879782\n",
       "2014    817.902390\n",
       "2015    809.276893\n",
       "2016    813.388081\n",
       "2017    789.374558\n",
       "2018    785.563552\n",
       "2019    748.046697\n",
       "2020    760.929422\n",
       "Name: 南昌市, dtype: float64"
      ]
     },
     "execution_count": 108,
     "metadata": {},
     "output_type": "execute_result"
    }
   ],
   "source": [
    "data = pd.read_excel(\"../data/碳排放总量.xlsx\",index_col=0).iloc[:,1]\n",
    "data"
   ]
  },
  {
   "cell_type": "code",
   "execution_count": 109,
   "metadata": {},
   "outputs": [],
   "source": [
    "class MyDataset(Dataset):\n",
    "            def __init__(self, data):\n",
    "                self.data = data\n",
    "\n",
    "            def __getitem__(self, item):\n",
    "                return self.data[item]\n",
    "\n",
    "            def __len__(self):\n",
    "                return len(self.data)\n",
    "\n",
    "\n",
    "class Data_create():\n",
    "    def __init__(self,data,train_B,Val_B,Test_B,t,Dtr_p,Val_p1,Val_p2,Dte_p):\n",
    "        self.data = data\n",
    "        self.train_B = train_B\n",
    "        self.Val_B = Val_B\n",
    "        self.Test_B = Test_B\n",
    "        self.t = t\n",
    "        self.Dtr_p = Dtr_p\n",
    "        self.Val_p1 = Val_p1\n",
    "        self.Val_p2 = Val_p2\n",
    "        self.Dte_p = Dte_p\n",
    "        \n",
    "        \n",
    "    \n",
    "    def nn_seq_us(self,):\n",
    "        print('data processing...')\n",
    "        dataset = self.data\n",
    "        # split\n",
    "        # train = dataset[:int(len(dataset) * 0.8)]\n",
    "        # val = dataset[int(len(dataset) * 0.8):int(len(dataset) * 0.9)]\n",
    "        # test = dataset[int(len(dataset) * 0.9):len(dataset)]\n",
    "        m, n = np.max(dataset), np.min(dataset)\n",
    "        print(m,n)\n",
    "        def process(data, batch_size, shuffle):\n",
    "            load1 = data.values\n",
    "            load = (load1 - n) / (m - n)\n",
    "            # load = load1\n",
    "            # print(load)\n",
    "            seq = []\n",
    "            for i in range(len(data) - self.t):\n",
    "                train_seq = []\n",
    "                train_label = []\n",
    "                for j in range(i, i + self.t):\n",
    "                    x = [load[j]]\n",
    "                    train_seq.append(x)\n",
    "                # for c in range(2, 8):\n",
    "                #     train_seq.append(data[i + 24][c])\n",
    "                train_label.append(load[i + self.t])\n",
    "                train_seq = torch.FloatTensor(train_seq)\n",
    "                train_label = torch.FloatTensor(train_label).view(-1)\n",
    "                seq.append((train_seq, train_label))\n",
    "\n",
    "            print(len(seq))\n",
    "            \n",
    "            # seq = MyDataset(seq)\n",
    "            # seq = DataLoader(dataset=seq, batch_size=batch_size, shuffle=shuffle, num_workers=0, drop_last=True)\n",
    "\n",
    "            return seq\n",
    "\n",
    "    \n",
    "        seq = process(dataset,self.train_B,False)\n",
    "        Dtr = DataLoader(dataset=MyDataset(seq[:int(len(seq) * self.Dtr_p)])\n",
    "                         , batch_size=self.train_B, shuffle=False, num_workers=0, drop_last=True)\n",
    "        \n",
    "        \n",
    "        Val = DataLoader(dataset=MyDataset(seq[int(len(seq) * self.Val_p1):int(len(seq) * self.Val_p2)])\n",
    "                         , batch_size=self.Val_B, shuffle=False, num_workers=0, drop_last=True)\n",
    "        \n",
    "        Dte = DataLoader(dataset=MyDataset(seq[int(len(seq) * self.Dte_p):len(seq)])\n",
    "                         , batch_size=self.Test_B, shuffle=False, num_workers=0, drop_last=True)\n",
    "        return Dtr, Val, Dte, m, n"
   ]
  },
  {
   "cell_type": "code",
   "execution_count": 110,
   "metadata": {},
   "outputs": [
    {
     "name": "stdout",
     "output_type": "stream",
     "text": [
      "data processing...\n",
      "826.6168562743735 704.3451021020015\n",
      "13\n"
     ]
    }
   ],
   "source": [
    "Dtr, Val, Dte, m, n = Data_create(data= data\n",
    "                ,train_B=4\n",
    "                ,Val_B=4\n",
    "                ,Test_B=1\n",
    "                ,t=8\n",
    "                ,Dtr_p=1\n",
    "                ,Val_p1=0\n",
    "                ,Val_p2=1\n",
    "                ,Dte_p=0).nn_seq_us()"
   ]
  },
  {
   "cell_type": "code",
   "execution_count": 111,
   "metadata": {},
   "outputs": [
    {
     "data": {
      "text/plain": [
       "(3, 3, 13)"
      ]
     },
     "execution_count": 111,
     "metadata": {},
     "output_type": "execute_result"
    }
   ],
   "source": [
    "len(list(Dtr)),len(list(Val)),len(list(Dte))"
   ]
  },
  {
   "cell_type": "code",
   "execution_count": 112,
   "metadata": {},
   "outputs": [
    {
     "name": "stdout",
     "output_type": "stream",
     "text": [
      "torch.Size([4, 8, 1])\n",
      "torch.Size([4, 8, 1])\n",
      "torch.Size([4, 8, 1])\n"
     ]
    }
   ],
   "source": [
    "for i in Dtr:\n",
    "    print(i[0].shape)"
   ]
  },
  {
   "cell_type": "code",
   "execution_count": 113,
   "metadata": {},
   "outputs": [],
   "source": [
    "def get_val_loss(args, model, Val):\n",
    "    model.eval()\n",
    "    loss_function1 = nn.MSELoss().to(device)\n",
    "    loss_sum = 0\n",
    "    for (seq, label) in Val:\n",
    "        seq = seq.to(device)\n",
    "        label = label.to(device)\n",
    "        y_pred = model(seq)\n",
    "        loss = loss_function1(y_pred, label)\n",
    "        loss_sum = loss_sum+loss\n",
    "    return loss_sum\n",
    "\n",
    "\n",
    "def train(args, Dtr, Val, path):\n",
    "    input_size, hidden_size, num_layers = args.input_size, args.hidden_size, args.num_layers\n",
    "    output_size = args.output_size\n",
    "    early_stopping = EarlyStopping(patience=3)\n",
    "    if args.bidirectional:\n",
    "        model = BiLSTM(input_size, hidden_size, num_layers, output_size, batch_size=args.batch_size).to(device)\n",
    "    else:\n",
    "        model = LSTM(input_size, hidden_size, num_layers, output_size, batch_size=args.batch_size).to(device)\n",
    "\n",
    "    loss_function = nn.MSELoss().to(device)\n",
    "    print(args.optimizer,args.weight_decay)\n",
    "    if args.optimizer == 'adam':\n",
    "        optimizer = torch.optim.Adam(model.parameters(), lr=args.lr,\n",
    "                                     weight_decay=args.weight_decay\n",
    "                                     )\n",
    "    else:\n",
    "        optimizer = torch.optim.SGD(model.parameters(), lr=args.lr,\n",
    "                                    momentum=0.9, weight_decay=args.weight_decay)\n",
    "    # scheduler = StepLR(optimizer, step_size=args.step_size, gamma=args.gamma)\n",
    "    # training\n",
    "    min_epochs = 10\n",
    "    best_model = None\n",
    "    min_val_loss = 5\n",
    "    for epoch in tqdm(range(args.epochs)):\n",
    "        train_loss = 0\n",
    "        for (seq, label) in Dtr:\n",
    "            seq = seq.to(device)\n",
    "            label = label.to(device)\n",
    "            y_pred = model(seq)\n",
    "            loss = loss_function(y_pred, label)\n",
    "            # train_loss.append(loss.item())\n",
    "            \n",
    "            loss.backward()\n",
    "            optimizer.step()\n",
    "            optimizer.zero_grad()\n",
    "            with torch.no_grad():\n",
    "                train_loss+=loss\n",
    "\n",
    "        # validation\n",
    "        with torch.no_grad():\n",
    "            val_loss = get_val_loss(args, model, Val)\n",
    "            # if epoch > min_epochs and val_loss < min_val_loss:\n",
    "            #     min_val_loss = val_loss\n",
    "            #     best_model = copy.deepcopy(model)\n",
    "            early_stopping(val_loss,model,path)\n",
    "            if early_stopping.early_stop:\n",
    "                    print(\"Early stopping\")\n",
    "                    break\n",
    "            # if train_loss < 0.01:\n",
    "            #     break\n",
    "\n",
    "            print('epoch {:03d} train_loss {:.8f} val_loss {:.8f}'.format(epoch, train_loss, val_loss))\n",
    "            # print('epoch {:03d} train_loss {:.8f} '.format(epoch, np.mean(train_loss)))\n",
    "        model.train()\n",
    "\n",
    "    # state = {'models': best_model.state_dict()}\n",
    "    # torch.save(state, path)"
   ]
  },
  {
   "cell_type": "code",
   "execution_count": 123,
   "metadata": {},
   "outputs": [
    {
     "name": "stdout",
     "output_type": "stream",
     "text": [
      "adam 0.055\n"
     ]
    },
    {
     "name": "stderr",
     "output_type": "stream",
     "text": [
      "  0%|          | 1/500 [00:00<01:13,  6.82it/s]"
     ]
    },
    {
     "name": "stdout",
     "output_type": "stream",
     "text": [
      "epoch 000 train_loss 2.47457123 val_loss 2.32137299\n",
      "epoch 001 train_loss 2.24602675 val_loss 2.08024454\n"
     ]
    },
    {
     "name": "stderr",
     "output_type": "stream",
     "text": [
      "  1%|          | 4/500 [00:00<00:30, 16.14it/s]"
     ]
    },
    {
     "name": "stdout",
     "output_type": "stream",
     "text": [
      "epoch 002 train_loss 2.00388670 val_loss 1.85334325\n",
      "epoch 003 train_loss 1.77265584 val_loss 1.61419368\n",
      "epoch 004 train_loss 1.55504894 val_loss 1.38282835\n",
      "epoch 005 train_loss 1.29942155 val_loss 1.13517487\n"
     ]
    },
    {
     "name": "stderr",
     "output_type": "stream",
     "text": [
      "  1%|▏         | 7/500 [00:00<00:24, 20.24it/s]"
     ]
    },
    {
     "name": "stdout",
     "output_type": "stream",
     "text": [
      "epoch 006 train_loss 1.04746306 val_loss 0.86111629\n",
      "epoch 007 train_loss 0.79310215 val_loss 0.58300084\n"
     ]
    },
    {
     "name": "stderr",
     "output_type": "stream",
     "text": [
      "  2%|▏         | 10/500 [00:00<00:21, 22.52it/s]"
     ]
    },
    {
     "name": "stdout",
     "output_type": "stream",
     "text": [
      "epoch 008 train_loss 0.53728729 val_loss 0.36483806\n",
      "epoch 009 train_loss 0.32486546 val_loss 0.19845563\n",
      "epoch 010 train_loss 0.18434516 val_loss 0.12059500\n",
      "epoch 011 train_loss 0.12559801 val_loss 0.09944238"
     ]
    },
    {
     "name": "stderr",
     "output_type": "stream",
     "text": [
      "  3%|▎         | 14/500 [00:00<00:18, 25.65it/s]"
     ]
    },
    {
     "name": "stdout",
     "output_type": "stream",
     "text": [
      "\n",
      "epoch 012 train_loss 0.10549060 val_loss 0.09571591\n",
      "EarlyStopping counter: 1 out of 3\n",
      "epoch 013 train_loss 0.09406088 val_loss 0.09839240\n",
      "EarlyStopping counter: 2 out of 3\n"
     ]
    },
    {
     "name": "stderr",
     "output_type": "stream",
     "text": [
      "  3%|▎         | 15/500 [00:00<00:22, 21.55it/s]"
     ]
    },
    {
     "name": "stdout",
     "output_type": "stream",
     "text": [
      "epoch 014 train_loss 0.08287524 val_loss 0.09643391\n",
      "EarlyStopping counter: 3 out of 3\n",
      "Early stopping\n"
     ]
    },
    {
     "name": "stderr",
     "output_type": "stream",
     "text": [
      "\n"
     ]
    }
   ],
   "source": [
    "args = Config(\n",
    "    input_size=1\n",
    "    ,hidden_size= 64\n",
    "    ,num_layers=2\n",
    "    ,output_size=1\n",
    "    ,bidirectional=False\n",
    "    ,optimizer=\"adam\"\n",
    "    ,epochs=500\n",
    "    ,batch_size=4\n",
    "    ,lr=0.001\n",
    "    ,weight_decay=0.055\n",
    ")\n",
    "train(args,Dtr, Val, \"./model\")\n"
   ]
  },
  {
   "cell_type": "code",
   "execution_count": 125,
   "metadata": {},
   "outputs": [],
   "source": [
    "from itertools import chain\n",
    "def test(args, Dte, path, m, n):\n",
    "    pred = []\n",
    "    y = []\n",
    "    print('loading models...')\n",
    "    input_size, hidden_size, num_layers = args.input_size, args.hidden_size, args.num_layers\n",
    "    output_size = args.output_size\n",
    "    if args.bidirectional:\n",
    "        model = BiLSTM(input_size, hidden_size, num_layers, output_size, batch_size=1).to(device)\n",
    "    else:\n",
    "        model = LSTM(input_size, hidden_size, num_layers, output_size, batch_size=1).to(device)\n",
    "    # models = LSTM(input_size, hidden_size, num_layers, output_size, batch_size=args.batch_size).to(device)\n",
    "    model.load_state_dict(torch.load(path))\n",
    "    model.eval()\n",
    "    print('predicting...')\n",
    "    for (seq, target) in tqdm(Dte):\n",
    "        target = list(chain.from_iterable(target.data.tolist()))\n",
    "        y.extend(target)\n",
    "        seq = seq.to(device)\n",
    "        with torch.no_grad():\n",
    "            y_pred = model(seq)\n",
    "            y_pred = list(chain.from_iterable(y_pred.data.tolist()))\n",
    "            pred.extend(y_pred)\n",
    "\n",
    "    y, pred = np.array(y), np.array(pred)\n",
    "    \n",
    "    y = (m - n) * y + n\n",
    "    pred = (m - n) * pred + n\n",
    "    \n",
    "    \n",
    "    # print('mape:', get_mape(y, pred))\n",
    "    # plot\n",
    "    # x = [i for i in range(1, 151)]\n",
    "    # x_smooth = np.linspace(np.min(x), np.max(x), 900)\n",
    "    # y_smooth = make_interp_spline(x, y[150:300])(x_smooth)\n",
    "    # plt.plot(x_smooth, y_smooth, c='green', marker='*', ms=1, alpha=0.75, label='true')\n",
    "\n",
    "    # y_smooth = make_interp_spline(x, pred[150:300])(x_smooth)\n",
    "    plt.plot(y, c='black', marker='o', ms=1, alpha=0.75, label='true')\n",
    "    plt.plot(pred, c='red', marker='o', ms=1, alpha=0.75, label='pred')\n",
    "    plt.grid(axis='y')\n",
    "    plt.legend()\n",
    "    plt.show()\n",
    "    \n",
    "    return pred"
   ]
  },
  {
   "cell_type": "code",
   "execution_count": 126,
   "metadata": {},
   "outputs": [
    {
     "name": "stdout",
     "output_type": "stream",
     "text": [
      "loading models...\n",
      "predicting...\n"
     ]
    },
    {
     "name": "stderr",
     "output_type": "stream",
     "text": [
      "100%|██████████| 13/13 [00:00<00:00, 592.47it/s]\n"
     ]
    },
    {
     "data": {
      "image/png": "[encoded data removed]",
      "text/plain": [
       "<Figure size 432x288 with 1 Axes>"
      ]
     },
     "metadata": {
      "needs_background": "light"
     },
     "output_type": "display_data"
    },
    {
     "data": {
      "text/plain": [
       "array([802.82742434, 805.62106145, 812.51859509, 811.07088468,\n",
       "       810.91710863, 814.03403985, 809.85232244, 814.75996484,\n",
       "       820.07670984, 814.75212299, 811.19448856, 809.84445873,\n",
       "       810.58018603])"
      ]
     },
     "execution_count": 126,
     "metadata": {},
     "output_type": "execute_result"
    }
   ],
   "source": [
    "\n",
    "test(args =args\n",
    "     ,Dte= Dte\n",
    "     ,path=\"./model/checkpoint.pth\"\n",
    "     ,m=m\n",
    "     ,n=n)\n"
   ]
  },
  {
   "cell_type": "code",
   "execution_count": null,
   "metadata": {},
   "outputs": [],
   "source": []
  },
  {
   "cell_type": "code",
   "execution_count": 128,
   "metadata": {},
   "outputs": [],
   "source": [
    "def predict_next(path, sample, args,SEQ_LEN,m,n,epoch=35):\n",
    "    \n",
    "    print('loading models...')\n",
    "    input_size, hidden_size, num_layers = args.input_size, args.hidden_size, args.num_layers\n",
    "    output_size = args.output_size\n",
    "    if args.bidirectional:\n",
    "        model = BiLSTM(input_size, hidden_size, num_layers, output_size, batch_size=1).to(device)\n",
    "    else:\n",
    "        model = LSTM(input_size, hidden_size, num_layers, output_size, batch_size=1).to(device)\n",
    "    # models = LSTM(input_size, hidden_size, num_layers, output_size, batch_size=args.batch_size).to(device)\n",
    "    model.load_state_dict(torch.load(path))\n",
    "    model.eval()\n",
    "    print('predicting...')\n",
    "    \n",
    "    temp1 = sample.detach().numpy().tolist()\n",
    "    for i in range(epoch):\n",
    "        sample = sample.reshape(1, SEQ_LEN, 1)\n",
    "        # print(sample)\n",
    "        pred = model(sample)\n",
    "        # print(pred.detach().numpy().reshape(1,).tolist())\n",
    "        # pred = pred.detach().numpy()\n",
    "        temp1.append(pred.detach().numpy().reshape(1,).tolist())\n",
    "        sample = torch.tensor(np.array(temp1[i+1 : i+SEQ_LEN+1]),dtype=torch.float32)\n",
    "    return [(m - n) * p[0] + n for p in  temp1]"
   ]
  },
  {
   "cell_type": "code",
   "execution_count": null,
   "metadata": {},
   "outputs": [],
   "source": []
  },
  {
   "cell_type": "code",
   "execution_count": 130,
   "metadata": {},
   "outputs": [
    {
     "name": "stdout",
     "output_type": "stream",
     "text": [
      "loading models...\n",
      "predicting...\n"
     ]
    },
    {
     "data": {
      "text/html": [
       "<div>\n",
       "<style scoped>\n",
       "    .dataframe tbody tr th:only-of-type {\n",
       "        vertical-align: middle;\n",
       "    }\n",
       "\n",
       "    .dataframe tbody tr th {\n",
       "        vertical-align: top;\n",
       "    }\n",
       "\n",
       "    .dataframe thead th {\n",
       "        text-align: right;\n",
       "    }\n",
       "</style>\n",
       "<table border=\"1\" class=\"dataframe\">\n",
       "  <thead>\n",
       "    <tr style=\"text-align: right;\">\n",
       "      <th></th>\n",
       "      <th>prediction</th>\n",
       "    </tr>\n",
       "  </thead>\n",
       "  <tbody>\n",
       "    <tr>\n",
       "      <th>2012</th>\n",
       "      <td>826.616856</td>\n",
       "    </tr>\n",
       "    <tr>\n",
       "      <th>2013</th>\n",
       "      <td>817.879782</td>\n",
       "    </tr>\n",
       "    <tr>\n",
       "      <th>2014</th>\n",
       "      <td>817.902389</td>\n",
       "    </tr>\n",
       "    <tr>\n",
       "      <th>2015</th>\n",
       "      <td>809.276894</td>\n",
       "    </tr>\n",
       "    <tr>\n",
       "      <th>2016</th>\n",
       "      <td>813.388078</td>\n",
       "    </tr>\n",
       "    <tr>\n",
       "      <th>2017</th>\n",
       "      <td>789.374556</td>\n",
       "    </tr>\n",
       "    <tr>\n",
       "      <th>2018</th>\n",
       "      <td>785.563548</td>\n",
       "    </tr>\n",
       "    <tr>\n",
       "      <th>2019</th>\n",
       "      <td>748.046696</td>\n",
       "    </tr>\n",
       "    <tr>\n",
       "      <th>2020</th>\n",
       "      <td>805.491948</td>\n",
       "    </tr>\n",
       "    <tr>\n",
       "      <th>2021</th>\n",
       "      <td>799.897444</td>\n",
       "    </tr>\n",
       "    <tr>\n",
       "      <th>2022</th>\n",
       "      <td>802.111520</td>\n",
       "    </tr>\n",
       "    <tr>\n",
       "      <th>2023</th>\n",
       "      <td>809.793946</td>\n",
       "    </tr>\n",
       "    <tr>\n",
       "      <th>2024</th>\n",
       "      <td>809.768584</td>\n",
       "    </tr>\n",
       "    <tr>\n",
       "      <th>2025</th>\n",
       "      <td>807.899082</td>\n",
       "    </tr>\n",
       "    <tr>\n",
       "      <th>2026</th>\n",
       "      <td>809.267186</td>\n",
       "    </tr>\n",
       "    <tr>\n",
       "      <th>2027</th>\n",
       "      <td>811.140871</td>\n",
       "    </tr>\n",
       "    <tr>\n",
       "      <th>2028</th>\n",
       "      <td>807.044029</td>\n",
       "    </tr>\n",
       "    <tr>\n",
       "      <th>2029</th>\n",
       "      <td>812.834601</td>\n",
       "    </tr>\n",
       "    <tr>\n",
       "      <th>2030</th>\n",
       "      <td>804.345296</td>\n",
       "    </tr>\n",
       "    <tr>\n",
       "      <th>2031</th>\n",
       "      <td>810.674084</td>\n",
       "    </tr>\n",
       "    <tr>\n",
       "      <th>2032</th>\n",
       "      <td>814.996838</td>\n",
       "    </tr>\n",
       "    <tr>\n",
       "      <th>2033</th>\n",
       "      <td>811.236460</td>\n",
       "    </tr>\n",
       "    <tr>\n",
       "      <th>2034</th>\n",
       "      <td>812.211305</td>\n",
       "    </tr>\n",
       "    <tr>\n",
       "      <th>2035</th>\n",
       "      <td>807.682790</td>\n",
       "    </tr>\n",
       "    <tr>\n",
       "      <th>2036</th>\n",
       "      <td>813.385353</td>\n",
       "    </tr>\n",
       "    <tr>\n",
       "      <th>2037</th>\n",
       "      <td>812.692114</td>\n",
       "    </tr>\n",
       "    <tr>\n",
       "      <th>2038</th>\n",
       "      <td>812.237272</td>\n",
       "    </tr>\n",
       "    <tr>\n",
       "      <th>2039</th>\n",
       "      <td>803.900184</td>\n",
       "    </tr>\n",
       "    <tr>\n",
       "      <th>2040</th>\n",
       "      <td>810.071493</td>\n",
       "    </tr>\n",
       "    <tr>\n",
       "      <th>2041</th>\n",
       "      <td>809.362936</td>\n",
       "    </tr>\n",
       "    <tr>\n",
       "      <th>2042</th>\n",
       "      <td>808.251084</td>\n",
       "    </tr>\n",
       "    <tr>\n",
       "      <th>2043</th>\n",
       "      <td>810.306348</td>\n",
       "    </tr>\n",
       "    <tr>\n",
       "      <th>2044</th>\n",
       "      <td>812.490012</td>\n",
       "    </tr>\n",
       "    <tr>\n",
       "      <th>2045</th>\n",
       "      <td>814.807570</td>\n",
       "    </tr>\n",
       "    <tr>\n",
       "      <th>2046</th>\n",
       "      <td>810.563271</td>\n",
       "    </tr>\n",
       "    <tr>\n",
       "      <th>2047</th>\n",
       "      <td>808.405129</td>\n",
       "    </tr>\n",
       "    <tr>\n",
       "      <th>2048</th>\n",
       "      <td>813.062131</td>\n",
       "    </tr>\n",
       "    <tr>\n",
       "      <th>2049</th>\n",
       "      <td>811.704048</td>\n",
       "    </tr>\n",
       "    <tr>\n",
       "      <th>2050</th>\n",
       "      <td>812.090485</td>\n",
       "    </tr>\n",
       "    <tr>\n",
       "      <th>2051</th>\n",
       "      <td>809.874682</td>\n",
       "    </tr>\n",
       "    <tr>\n",
       "      <th>2052</th>\n",
       "      <td>809.404725</td>\n",
       "    </tr>\n",
       "    <tr>\n",
       "      <th>2053</th>\n",
       "      <td>806.923916</td>\n",
       "    </tr>\n",
       "    <tr>\n",
       "      <th>2054</th>\n",
       "      <td>811.376717</td>\n",
       "    </tr>\n",
       "    <tr>\n",
       "      <th>2055</th>\n",
       "      <td>809.182704</td>\n",
       "    </tr>\n",
       "    <tr>\n",
       "      <th>2056</th>\n",
       "      <td>811.986472</td>\n",
       "    </tr>\n",
       "    <tr>\n",
       "      <th>2057</th>\n",
       "      <td>806.941305</td>\n",
       "    </tr>\n",
       "    <tr>\n",
       "      <th>2058</th>\n",
       "      <td>811.498440</td>\n",
       "    </tr>\n",
       "    <tr>\n",
       "      <th>2059</th>\n",
       "      <td>812.303236</td>\n",
       "    </tr>\n",
       "  </tbody>\n",
       "</table>\n",
       "</div>"
      ],
      "text/plain": [
       "      prediction\n",
       "2012  826.616856\n",
       "2013  817.879782\n",
       "2014  817.902389\n",
       "2015  809.276894\n",
       "2016  813.388078\n",
       "2017  789.374556\n",
       "2018  785.563548\n",
       "2019  748.046696\n",
       "2020  805.491948\n",
       "2021  799.897444\n",
       "2022  802.111520\n",
       "2023  809.793946\n",
       "2024  809.768584\n",
       "2025  807.899082\n",
       "2026  809.267186\n",
       "2027  811.140871\n",
       "2028  807.044029\n",
       "2029  812.834601\n",
       "2030  804.345296\n",
       "2031  810.674084\n",
       "2032  814.996838\n",
       "2033  811.236460\n",
       "2034  812.211305\n",
       "2035  807.682790\n",
       "2036  813.385353\n",
       "2037  812.692114\n",
       "2038  812.237272\n",
       "2039  803.900184\n",
       "2040  810.071493\n",
       "2041  809.362936\n",
       "2042  808.251084\n",
       "2043  810.306348\n",
       "2044  812.490012\n",
       "2045  814.807570\n",
       "2046  810.563271\n",
       "2047  808.405129\n",
       "2048  813.062131\n",
       "2049  811.704048\n",
       "2050  812.090485\n",
       "2051  809.874682\n",
       "2052  809.404725\n",
       "2053  806.923916\n",
       "2054  811.376717\n",
       "2055  809.182704\n",
       "2056  811.986472\n",
       "2057  806.941305\n",
       "2058  811.498440\n",
       "2059  812.303236"
      ]
     },
     "execution_count": 130,
     "metadata": {},
     "output_type": "execute_result"
    },
    {
     "data": {
      "image/png": "[encoded data removed]",
      "text/plain": [
       "<Figure size 432x288 with 1 Axes>"
      ]
     },
     "metadata": {
      "needs_background": "light"
     },
     "output_type": "display_data"
    }
   ],
   "source": [
    "list = predict_next(path=\"./model/checkpoint.pth\"\n",
    "             ,sample=DataLoader_tolist(Dte)[-1][0][-1]\n",
    "             ,args=args\n",
    "             ,SEQ_LEN=8\n",
    "             ,m=m\n",
    "             ,n=n\n",
    "             ,epoch=40)\n",
    "plt.plot(list)\n",
    "pd.DataFrame(list,index=range(2012,2012+48),columns=[\"prediction\"])"
   ]
  },
  {
   "cell_type": "code",
   "execution_count": null,
   "metadata": {},
   "outputs": [
    {
     "data": {
      "text/plain": [
       "48"
      ]
     },
     "execution_count": 36,
     "metadata": {},
     "output_type": "execute_result"
    }
   ],
   "source": [
    "len(list)"
   ]
  },
  {
   "cell_type": "code",
   "execution_count": null,
   "metadata": {},
   "outputs": [],
   "source": [
    "# plt.figure(figsize=(16,9))\n",
    "\n",
    "# plt.xticks(range(2014,2014+22))\n"
   ]
  }
 ],
 "metadata": {
  "kernelspec": {
   "display_name": "Python 3 (ipykernel)",
   "language": "python",
   "name": "python3"
  },
  "language_info": {
   "codemirror_mode": {
    "name": "ipython",
    "version": 3
   },
   "file_extension": ".py",
   "mimetype": "text/x-python",
   "name": "python",
   "nbconvert_exporter": "python",
   "pygments_lexer": "ipython3",
   "version": "3.9.12"
  },
  "vscode": {
   "interpreter": {
    "hash": "429c4da532d5a49305ad374da5bd9411413fc9c5f93bdb5e51c34bc796003ebd"
   }
  }
 },
 "nbformat": 4,
 "nbformat_minor": 2
}
