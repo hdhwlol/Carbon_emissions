{
 "cells": [
  {
   "cell_type": "code",
   "execution_count": 12,
   "metadata": {},
   "outputs": [],
   "source": [
    "import pandas as pd\n",
    "import numpy as np\n",
    "import matplotlib.pyplot as plt\n",
    "import os\n",
    "from sklearn.experimental import enable_iterative_imputer\n",
    "from sklearn.impute import IterativeImputer\n",
    "import xgboost"
   ]
  },
  {
   "cell_type": "code",
   "execution_count": 46,
   "metadata": {},
   "outputs": [],
   "source": [
    "def transform_C():\n",
    "    data_C = pd.read_excel(\"../data/江西省及各市碳排放总量.xlsx\",index_col=0)\n",
    "    data_nmy = pd.read_excel(\"../data/农牧业生产总值.xlsx\",index_col=0)\n",
    "    data_nlmyy = pd.read_excel(\"../data/农林牧渔业生产总值.xlsx\",index_col=0)\n",
    "    data_GDP = pd.read_excel(\"../data/GDP.xlsx\",index_col=0)\n",
    "    data_dqzrk = pd.read_excel(\"../data/地区总人口.xlsx\",index_col=0)\n",
    "    data_nczrk = pd.read_excel(\"../data/农村总人口.xlsx\",index_col=0)\n",
    "    with pd.ExcelWriter(\"../data/碳排放分解.xlsx\") as writer:\n",
    "        for col in data_C.columns:\n",
    "            C_I = (data_C[col]/data_nmy[col]).values\n",
    "            A_I = (data_nmy[col]/data_nlmyy[col]).values\n",
    "            I_S = (data_nlmyy[col]/data_GDP[col]).values\n",
    "            E_DL = (data_GDP[col]/data_dqzrk[col]).values\n",
    "            U_RB = (data_dqzrk[col]/data_nczrk[col]).values\n",
    "            P_R = data_nczrk[col]\n",
    "            data = pd.DataFrame(C_I,columns=[\"C_I\"],index=data_C.index)\n",
    "            # print(C_I)\n",
    "            data[\"A_I\"] = A_I\n",
    "            data[\"I_S\"] = I_S\n",
    "            data[\"E_DL\"] = E_DL\n",
    "            data[\"U_RB\"] = U_RB\n",
    "            data[\"P_R\"] = P_R\n",
    "            data[\"C\"] = data_C[col]\n",
    "            data.to_excel(writer,sheet_name=col)\n",
    "\n",
    "transform_C()"
   ]
  },
  {
   "cell_type": "code",
   "execution_count": 47,
   "metadata": {},
   "outputs": [],
   "source": [
    "def LMDI(data,tt,t0):\n",
    "    def Delta_XX(yt,y0,xt,x0):\n",
    "        def L(yt,y0):\n",
    "            if yt == y0:\n",
    "                return 0\n",
    "            else:\n",
    "                return (yt-y0)/(np.log(yt) - np.log(y0))\n",
    "        return L(yt,y0)*np.log(xt/x0)\n",
    "    Delta_y = data[tt,-1]-data[t0,-1]\n",
    "    Delta_x = []\n",
    "    for i in range(0,np.shape(data)[1]-1):\n",
    "        Delta_x.append( Delta_XX(data[tt,-1],data[t0,-1],data[tt,i], data[t0,i]) )\n",
    "    Delta_x.append(Delta_y)\n",
    "    return Delta_x"
   ]
  },
  {
   "cell_type": "code",
   "execution_count": 49,
   "metadata": {},
   "outputs": [],
   "source": [
    "def cal_LMDI():\n",
    "    data_fj = pd.read_excel(\"../data/碳排放分解.xlsx\",sheet_name=None,index_col=0)\n",
    "    with pd.ExcelWriter(\"../data/碳排放LMDI.xlsx\") as writer:\n",
    "        for k,v in data_fj.items():\n",
    "            data = v.values\n",
    "            delta = []\n",
    "            for year in range(1,len(data)):\n",
    "                delta.append(LMDI(data,year,0))\n",
    "            data_out = pd.DataFrame(np.array(delta),index=v.index[1:],columns=['Delta_'+col for col in v.columns])\n",
    "            data_hj = pd.DataFrame(data_out.sum(),columns=[\"合计\"]).T\n",
    "            pd.concat([data_out,data_hj]).to_excel(writer,sheet_name=k)\n",
    "        \n",
    "\n",
    "cal_LMDI()"
   ]
  },
  {
   "cell_type": "code",
   "execution_count": null,
   "metadata": {},
   "outputs": [],
   "source": []
  }
 ],
 "metadata": {
  "kernelspec": {
   "display_name": "Python 3.9.12 ('base')",
   "language": "python",
   "name": "python3"
  },
  "language_info": {
   "codemirror_mode": {
    "name": "ipython",
    "version": 3
   },
   "file_extension": ".py",
   "mimetype": "text/x-python",
   "name": "python",
   "nbconvert_exporter": "python",
   "pygments_lexer": "ipython3",
   "version": "3.9.12"
  },
  "orig_nbformat": 4,
  "vscode": {
   "interpreter": {
    "hash": "429c4da532d5a49305ad374da5bd9411413fc9c5f93bdb5e51c34bc796003ebd"
   }
  }
 },
 "nbformat": 4,
 "nbformat_minor": 2
}
