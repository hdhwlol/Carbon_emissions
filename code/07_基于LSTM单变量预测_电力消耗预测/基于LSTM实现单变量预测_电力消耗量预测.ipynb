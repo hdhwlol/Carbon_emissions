{
 "cells": [
  {
   "cell_type": "markdown",
   "id": "5a471022",
   "metadata": {},
   "source": [
    "##### 由于B站工作人员经常清理我的个人简介，导致很多同学看不到QQ群和其他群号。\n",
    "##### 其它课程和专栏在网易云课堂 + 微信公众号：唐国梁Tommy\n",
    "#### 第13 QQ群：694112390\n",
    "#### 代码在百度云盘群号：2133511255"
   ]
  },
  {
   "cell_type": "markdown",
   "id": "26874492",
   "metadata": {},
   "source": [
    "### 案例实现思路：\n",
    "\n",
    "* 1. 加载数据集、预处理\n",
    "\n",
    "* 2. 特征工程\n",
    "\n",
    "* 3. 构建模型\n",
    "\n",
    "* 4. 模型编译、训练、验证\n",
    "\n",
    "* 5. 模型测试\n",
    "\n",
    "* 6. 结果可视化"
   ]
  },
  {
   "cell_type": "code",
   "execution_count": 1,
   "id": "e40ea642",
   "metadata": {},
   "outputs": [],
   "source": [
    "import numpy as np\n",
    "import pandas as pd\n",
    "import matplotlib.pyplot as plt\n",
    "import seaborn as sns\n",
    "\n",
    "from sklearn.preprocessing import MinMaxScaler\n",
    "from sklearn.metrics import r2_score\n",
    "\n",
    "import tensorflow as tf\n",
    "from tensorflow.keras import Sequential, layers, utils\n",
    "\n",
    "import warnings\n",
    "warnings.filterwarnings('ignore')"
   ]
  },
  {
   "cell_type": "markdown",
   "id": "041f0b3f",
   "metadata": {},
   "source": [
    "### 第1步：加载数据集、预处理"
   ]
  },
  {
   "cell_type": "code",
   "execution_count": 57,
   "id": "ea868f2d",
   "metadata": {},
   "outputs": [],
   "source": [
    "# 读取数据集\n",
    "\n",
    "# dataset = pd.read_csv('DOM_hourly.csv')\n",
    "dataset = pd.read_excel(\"../../data/碳排放总量.xlsx\",index_col=0)"
   ]
  },
  {
   "cell_type": "code",
   "execution_count": 58,
   "id": "797ea8e1",
   "metadata": {},
   "outputs": [
    {
     "data": {
      "text/plain": [
       "(21, 12)"
      ]
     },
     "execution_count": 58,
     "metadata": {},
     "output_type": "execute_result"
    }
   ],
   "source": [
    "# 显示shape \n",
    "    \n",
    "dataset.shape"
   ]
  },
  {
   "cell_type": "code",
   "execution_count": 59,
   "id": "7fff486e",
   "metadata": {},
   "outputs": [
    {
     "data": {
      "text/html": [
       "<div>\n",
       "<style scoped>\n",
       "    .dataframe tbody tr th:only-of-type {\n",
       "        vertical-align: middle;\n",
       "    }\n",
       "\n",
       "    .dataframe tbody tr th {\n",
       "        vertical-align: top;\n",
       "    }\n",
       "\n",
       "    .dataframe thead th {\n",
       "        text-align: right;\n",
       "    }\n",
       "</style>\n",
       "<table border=\"1\" class=\"dataframe\">\n",
       "  <thead>\n",
       "    <tr style=\"text-align: right;\">\n",
       "      <th></th>\n",
       "      <th>江西省</th>\n",
       "      <th>南昌市</th>\n",
       "      <th>景德镇市</th>\n",
       "      <th>萍乡市</th>\n",
       "      <th>九江市</th>\n",
       "      <th>新余市</th>\n",
       "      <th>鹰潭市</th>\n",
       "      <th>赣州市</th>\n",
       "      <th>吉安市</th>\n",
       "      <th>宜春市</th>\n",
       "      <th>抚州市</th>\n",
       "      <th>上饶市</th>\n",
       "    </tr>\n",
       "  </thead>\n",
       "  <tbody>\n",
       "    <tr>\n",
       "      <th>2000</th>\n",
       "      <td>4019.388271</td>\n",
       "      <td>736.250475</td>\n",
       "      <td>191.548481</td>\n",
       "      <td>177.205198</td>\n",
       "      <td>619.502447</td>\n",
       "      <td>215.698632</td>\n",
       "      <td>216.631655</td>\n",
       "      <td>1078.029471</td>\n",
       "      <td>1110.368063</td>\n",
       "      <td>1202.178139</td>\n",
       "      <td>841.635627</td>\n",
       "      <td>929.563308</td>\n",
       "    </tr>\n",
       "    <tr>\n",
       "      <th>2001</th>\n",
       "      <td>3994.418834</td>\n",
       "      <td>733.348364</td>\n",
       "      <td>186.691805</td>\n",
       "      <td>171.298964</td>\n",
       "      <td>616.850311</td>\n",
       "      <td>217.873308</td>\n",
       "      <td>216.296654</td>\n",
       "      <td>1081.389128</td>\n",
       "      <td>1113.798678</td>\n",
       "      <td>1194.325272</td>\n",
       "      <td>849.408622</td>\n",
       "      <td>930.370928</td>\n",
       "    </tr>\n",
       "    <tr>\n",
       "      <th>2002</th>\n",
       "      <td>3981.503663</td>\n",
       "      <td>722.529652</td>\n",
       "      <td>190.299335</td>\n",
       "      <td>175.752485</td>\n",
       "      <td>602.164893</td>\n",
       "      <td>214.138226</td>\n",
       "      <td>215.960984</td>\n",
       "      <td>1131.087879</td>\n",
       "      <td>1126.030075</td>\n",
       "      <td>1193.239955</td>\n",
       "      <td>815.395192</td>\n",
       "      <td>919.693075</td>\n",
       "    </tr>\n",
       "    <tr>\n",
       "      <th>2003</th>\n",
       "      <td>3853.282343</td>\n",
       "      <td>704.345102</td>\n",
       "      <td>184.232497</td>\n",
       "      <td>165.573317</td>\n",
       "      <td>585.197343</td>\n",
       "      <td>208.793316</td>\n",
       "      <td>215.045473</td>\n",
       "      <td>1080.386473</td>\n",
       "      <td>1068.846891</td>\n",
       "      <td>1090.236335</td>\n",
       "      <td>947.578047</td>\n",
       "      <td>837.749459</td>\n",
       "    </tr>\n",
       "    <tr>\n",
       "      <th>2004</th>\n",
       "      <td>4259.181408</td>\n",
       "      <td>746.373703</td>\n",
       "      <td>197.918960</td>\n",
       "      <td>176.709791</td>\n",
       "      <td>621.749893</td>\n",
       "      <td>225.589485</td>\n",
       "      <td>218.799596</td>\n",
       "      <td>1176.419119</td>\n",
       "      <td>1190.452673</td>\n",
       "      <td>1141.283308</td>\n",
       "      <td>1011.753815</td>\n",
       "      <td>922.600367</td>\n",
       "    </tr>\n",
       "  </tbody>\n",
       "</table>\n",
       "</div>"
      ],
      "text/plain": [
       "              江西省         南昌市        景德镇市         萍乡市         九江市         新余市  \\\n",
       "2000  4019.388271  736.250475  191.548481  177.205198  619.502447  215.698632   \n",
       "2001  3994.418834  733.348364  186.691805  171.298964  616.850311  217.873308   \n",
       "2002  3981.503663  722.529652  190.299335  175.752485  602.164893  214.138226   \n",
       "2003  3853.282343  704.345102  184.232497  165.573317  585.197343  208.793316   \n",
       "2004  4259.181408  746.373703  197.918960  176.709791  621.749893  225.589485   \n",
       "\n",
       "             鹰潭市          赣州市          吉安市          宜春市          抚州市  \\\n",
       "2000  216.631655  1078.029471  1110.368063  1202.178139   841.635627   \n",
       "2001  216.296654  1081.389128  1113.798678  1194.325272   849.408622   \n",
       "2002  215.960984  1131.087879  1126.030075  1193.239955   815.395192   \n",
       "2003  215.045473  1080.386473  1068.846891  1090.236335   947.578047   \n",
       "2004  218.799596  1176.419119  1190.452673  1141.283308  1011.753815   \n",
       "\n",
       "             上饶市  \n",
       "2000  929.563308  \n",
       "2001  930.370928  \n",
       "2002  919.693075  \n",
       "2003  837.749459  \n",
       "2004  922.600367  "
      ]
     },
     "execution_count": 59,
     "metadata": {},
     "output_type": "execute_result"
    }
   ],
   "source": [
    "# 默认显示前5行\n",
    "\n",
    "dataset.head()"
   ]
  },
  {
   "cell_type": "code",
   "execution_count": 60,
   "id": "f267c207",
   "metadata": {},
   "outputs": [
    {
     "data": {
      "text/html": [
       "<div>\n",
       "<style scoped>\n",
       "    .dataframe tbody tr th:only-of-type {\n",
       "        vertical-align: middle;\n",
       "    }\n",
       "\n",
       "    .dataframe tbody tr th {\n",
       "        vertical-align: top;\n",
       "    }\n",
       "\n",
       "    .dataframe thead th {\n",
       "        text-align: right;\n",
       "    }\n",
       "</style>\n",
       "<table border=\"1\" class=\"dataframe\">\n",
       "  <thead>\n",
       "    <tr style=\"text-align: right;\">\n",
       "      <th></th>\n",
       "      <th>江西省</th>\n",
       "      <th>南昌市</th>\n",
       "      <th>景德镇市</th>\n",
       "      <th>萍乡市</th>\n",
       "      <th>九江市</th>\n",
       "      <th>新余市</th>\n",
       "      <th>鹰潭市</th>\n",
       "      <th>赣州市</th>\n",
       "      <th>吉安市</th>\n",
       "      <th>宜春市</th>\n",
       "      <th>抚州市</th>\n",
       "      <th>上饶市</th>\n",
       "    </tr>\n",
       "  </thead>\n",
       "  <tbody>\n",
       "    <tr>\n",
       "      <th>count</th>\n",
       "      <td>21.000000</td>\n",
       "      <td>21.000000</td>\n",
       "      <td>21.000000</td>\n",
       "      <td>21.000000</td>\n",
       "      <td>21.000000</td>\n",
       "      <td>21.000000</td>\n",
       "      <td>21.000000</td>\n",
       "      <td>21.000000</td>\n",
       "      <td>21.000000</td>\n",
       "      <td>21.000000</td>\n",
       "      <td>21.000000</td>\n",
       "      <td>21.000000</td>\n",
       "    </tr>\n",
       "    <tr>\n",
       "      <th>mean</th>\n",
       "      <td>4591.054353</td>\n",
       "      <td>779.732364</td>\n",
       "      <td>201.611621</td>\n",
       "      <td>188.824702</td>\n",
       "      <td>670.440186</td>\n",
       "      <td>215.533325</td>\n",
       "      <td>227.981808</td>\n",
       "      <td>1188.947312</td>\n",
       "      <td>1268.401371</td>\n",
       "      <td>1274.828354</td>\n",
       "      <td>917.545665</td>\n",
       "      <td>1064.050444</td>\n",
       "    </tr>\n",
       "    <tr>\n",
       "      <th>std</th>\n",
       "      <td>379.046436</td>\n",
       "      <td>36.675939</td>\n",
       "      <td>7.568485</td>\n",
       "      <td>13.215762</td>\n",
       "      <td>48.569340</td>\n",
       "      <td>6.850213</td>\n",
       "      <td>10.224848</td>\n",
       "      <td>54.495476</td>\n",
       "      <td>100.011384</td>\n",
       "      <td>85.093987</td>\n",
       "      <td>50.346044</td>\n",
       "      <td>122.276852</td>\n",
       "    </tr>\n",
       "    <tr>\n",
       "      <th>min</th>\n",
       "      <td>3853.282343</td>\n",
       "      <td>704.345102</td>\n",
       "      <td>184.232497</td>\n",
       "      <td>165.573317</td>\n",
       "      <td>585.197343</td>\n",
       "      <td>206.336416</td>\n",
       "      <td>215.045473</td>\n",
       "      <td>1078.029471</td>\n",
       "      <td>1068.846891</td>\n",
       "      <td>1090.236335</td>\n",
       "      <td>815.395192</td>\n",
       "      <td>837.749459</td>\n",
       "    </tr>\n",
       "    <tr>\n",
       "      <th>25%</th>\n",
       "      <td>4431.310599</td>\n",
       "      <td>748.046697</td>\n",
       "      <td>200.314590</td>\n",
       "      <td>177.735826</td>\n",
       "      <td>632.240662</td>\n",
       "      <td>209.803264</td>\n",
       "      <td>218.799596</td>\n",
       "      <td>1187.838557</td>\n",
       "      <td>1190.452673</td>\n",
       "      <td>1204.033145</td>\n",
       "      <td>882.240974</td>\n",
       "      <td>980.774194</td>\n",
       "    </tr>\n",
       "    <tr>\n",
       "      <th>50%</th>\n",
       "      <td>4664.690954</td>\n",
       "      <td>787.139241</td>\n",
       "      <td>204.430836</td>\n",
       "      <td>188.844010</td>\n",
       "      <td>659.493201</td>\n",
       "      <td>214.138226</td>\n",
       "      <td>225.715829</td>\n",
       "      <td>1196.778452</td>\n",
       "      <td>1292.323638</td>\n",
       "      <td>1282.897093</td>\n",
       "      <td>920.105893</td>\n",
       "      <td>1061.755561</td>\n",
       "    </tr>\n",
       "    <tr>\n",
       "      <th>75%</th>\n",
       "      <td>4907.189545</td>\n",
       "      <td>813.388081</td>\n",
       "      <td>206.583603</td>\n",
       "      <td>197.389899</td>\n",
       "      <td>721.960421</td>\n",
       "      <td>218.494867</td>\n",
       "      <td>234.256884</td>\n",
       "      <td>1213.491944</td>\n",
       "      <td>1341.056214</td>\n",
       "      <td>1329.445543</td>\n",
       "      <td>947.578047</td>\n",
       "      <td>1196.897488</td>\n",
       "    </tr>\n",
       "    <tr>\n",
       "      <th>max</th>\n",
       "      <td>5042.628498</td>\n",
       "      <td>826.616856</td>\n",
       "      <td>210.366448</td>\n",
       "      <td>213.945208</td>\n",
       "      <td>740.908435</td>\n",
       "      <td>228.789775</td>\n",
       "      <td>249.201577</td>\n",
       "      <td>1264.744063</td>\n",
       "      <td>1389.123403</td>\n",
       "      <td>1402.643110</td>\n",
       "      <td>1011.753815</td>\n",
       "      <td>1227.008657</td>\n",
       "    </tr>\n",
       "  </tbody>\n",
       "</table>\n",
       "</div>"
      ],
      "text/plain": [
       "               江西省         南昌市        景德镇市         萍乡市         九江市  \\\n",
       "count    21.000000   21.000000   21.000000   21.000000   21.000000   \n",
       "mean   4591.054353  779.732364  201.611621  188.824702  670.440186   \n",
       "std     379.046436   36.675939    7.568485   13.215762   48.569340   \n",
       "min    3853.282343  704.345102  184.232497  165.573317  585.197343   \n",
       "25%    4431.310599  748.046697  200.314590  177.735826  632.240662   \n",
       "50%    4664.690954  787.139241  204.430836  188.844010  659.493201   \n",
       "75%    4907.189545  813.388081  206.583603  197.389899  721.960421   \n",
       "max    5042.628498  826.616856  210.366448  213.945208  740.908435   \n",
       "\n",
       "              新余市         鹰潭市          赣州市          吉安市          宜春市  \\\n",
       "count   21.000000   21.000000    21.000000    21.000000    21.000000   \n",
       "mean   215.533325  227.981808  1188.947312  1268.401371  1274.828354   \n",
       "std      6.850213   10.224848    54.495476   100.011384    85.093987   \n",
       "min    206.336416  215.045473  1078.029471  1068.846891  1090.236335   \n",
       "25%    209.803264  218.799596  1187.838557  1190.452673  1204.033145   \n",
       "50%    214.138226  225.715829  1196.778452  1292.323638  1282.897093   \n",
       "75%    218.494867  234.256884  1213.491944  1341.056214  1329.445543   \n",
       "max    228.789775  249.201577  1264.744063  1389.123403  1402.643110   \n",
       "\n",
       "               抚州市          上饶市  \n",
       "count    21.000000    21.000000  \n",
       "mean    917.545665  1064.050444  \n",
       "std      50.346044   122.276852  \n",
       "min     815.395192   837.749459  \n",
       "25%     882.240974   980.774194  \n",
       "50%     920.105893  1061.755561  \n",
       "75%     947.578047  1196.897488  \n",
       "max    1011.753815  1227.008657  "
      ]
     },
     "execution_count": 60,
     "metadata": {},
     "output_type": "execute_result"
    }
   ],
   "source": [
    "# 显示数据描述\n",
    "\n",
    "dataset.describe()"
   ]
  },
  {
   "cell_type": "code",
   "execution_count": 5,
   "id": "b87da45e",
   "metadata": {},
   "outputs": [
    {
     "data": {
      "text/plain": [
       "Datetime     object\n",
       "DOM_MW      float64\n",
       "dtype: object"
      ]
     },
     "execution_count": 5,
     "metadata": {},
     "output_type": "execute_result"
    }
   ],
   "source": [
    "# 显示字段数据类型\n",
    "\n",
    "dataset.dtypes"
   ]
  },
  {
   "cell_type": "code",
   "execution_count": 61,
   "id": "a7a23c13",
   "metadata": {},
   "outputs": [
    {
     "data": {
      "text/html": [
       "<div>\n",
       "<style scoped>\n",
       "    .dataframe tbody tr th:only-of-type {\n",
       "        vertical-align: middle;\n",
       "    }\n",
       "\n",
       "    .dataframe tbody tr th {\n",
       "        vertical-align: top;\n",
       "    }\n",
       "\n",
       "    .dataframe thead th {\n",
       "        text-align: right;\n",
       "    }\n",
       "</style>\n",
       "<table border=\"1\" class=\"dataframe\">\n",
       "  <thead>\n",
       "    <tr style=\"text-align: right;\">\n",
       "      <th></th>\n",
       "      <th>江西省</th>\n",
       "      <th>南昌市</th>\n",
       "      <th>景德镇市</th>\n",
       "      <th>萍乡市</th>\n",
       "      <th>九江市</th>\n",
       "      <th>新余市</th>\n",
       "      <th>鹰潭市</th>\n",
       "      <th>赣州市</th>\n",
       "      <th>吉安市</th>\n",
       "      <th>宜春市</th>\n",
       "      <th>抚州市</th>\n",
       "      <th>上饶市</th>\n",
       "    </tr>\n",
       "  </thead>\n",
       "  <tbody>\n",
       "    <tr>\n",
       "      <th>2000</th>\n",
       "      <td>4019.388271</td>\n",
       "      <td>736.250475</td>\n",
       "      <td>191.548481</td>\n",
       "      <td>177.205198</td>\n",
       "      <td>619.502447</td>\n",
       "      <td>215.698632</td>\n",
       "      <td>216.631655</td>\n",
       "      <td>1078.029471</td>\n",
       "      <td>1110.368063</td>\n",
       "      <td>1202.178139</td>\n",
       "      <td>841.635627</td>\n",
       "      <td>929.563308</td>\n",
       "    </tr>\n",
       "    <tr>\n",
       "      <th>2001</th>\n",
       "      <td>3994.418834</td>\n",
       "      <td>733.348364</td>\n",
       "      <td>186.691805</td>\n",
       "      <td>171.298964</td>\n",
       "      <td>616.850311</td>\n",
       "      <td>217.873308</td>\n",
       "      <td>216.296654</td>\n",
       "      <td>1081.389128</td>\n",
       "      <td>1113.798678</td>\n",
       "      <td>1194.325272</td>\n",
       "      <td>849.408622</td>\n",
       "      <td>930.370928</td>\n",
       "    </tr>\n",
       "    <tr>\n",
       "      <th>2002</th>\n",
       "      <td>3981.503663</td>\n",
       "      <td>722.529652</td>\n",
       "      <td>190.299335</td>\n",
       "      <td>175.752485</td>\n",
       "      <td>602.164893</td>\n",
       "      <td>214.138226</td>\n",
       "      <td>215.960984</td>\n",
       "      <td>1131.087879</td>\n",
       "      <td>1126.030075</td>\n",
       "      <td>1193.239955</td>\n",
       "      <td>815.395192</td>\n",
       "      <td>919.693075</td>\n",
       "    </tr>\n",
       "    <tr>\n",
       "      <th>2003</th>\n",
       "      <td>3853.282343</td>\n",
       "      <td>704.345102</td>\n",
       "      <td>184.232497</td>\n",
       "      <td>165.573317</td>\n",
       "      <td>585.197343</td>\n",
       "      <td>208.793316</td>\n",
       "      <td>215.045473</td>\n",
       "      <td>1080.386473</td>\n",
       "      <td>1068.846891</td>\n",
       "      <td>1090.236335</td>\n",
       "      <td>947.578047</td>\n",
       "      <td>837.749459</td>\n",
       "    </tr>\n",
       "    <tr>\n",
       "      <th>2004</th>\n",
       "      <td>4259.181408</td>\n",
       "      <td>746.373703</td>\n",
       "      <td>197.918960</td>\n",
       "      <td>176.709791</td>\n",
       "      <td>621.749893</td>\n",
       "      <td>225.589485</td>\n",
       "      <td>218.799596</td>\n",
       "      <td>1176.419119</td>\n",
       "      <td>1190.452673</td>\n",
       "      <td>1141.283308</td>\n",
       "      <td>1011.753815</td>\n",
       "      <td>922.600367</td>\n",
       "    </tr>\n",
       "  </tbody>\n",
       "</table>\n",
       "</div>"
      ],
      "text/plain": [
       "              江西省         南昌市        景德镇市         萍乡市         九江市         新余市  \\\n",
       "2000  4019.388271  736.250475  191.548481  177.205198  619.502447  215.698632   \n",
       "2001  3994.418834  733.348364  186.691805  171.298964  616.850311  217.873308   \n",
       "2002  3981.503663  722.529652  190.299335  175.752485  602.164893  214.138226   \n",
       "2003  3853.282343  704.345102  184.232497  165.573317  585.197343  208.793316   \n",
       "2004  4259.181408  746.373703  197.918960  176.709791  621.749893  225.589485   \n",
       "\n",
       "             鹰潭市          赣州市          吉安市          宜春市          抚州市  \\\n",
       "2000  216.631655  1078.029471  1110.368063  1202.178139   841.635627   \n",
       "2001  216.296654  1081.389128  1113.798678  1194.325272   849.408622   \n",
       "2002  215.960984  1131.087879  1126.030075  1193.239955   815.395192   \n",
       "2003  215.045473  1080.386473  1068.846891  1090.236335   947.578047   \n",
       "2004  218.799596  1176.419119  1190.452673  1141.283308  1011.753815   \n",
       "\n",
       "             上饶市  \n",
       "2000  929.563308  \n",
       "2001  930.370928  \n",
       "2002  919.693075  \n",
       "2003  837.749459  \n",
       "2004  922.600367  "
      ]
     },
     "execution_count": 61,
     "metadata": {},
     "output_type": "execute_result"
    }
   ],
   "source": [
    "# 显示默认前5行\n",
    "\n",
    "dataset.head()"
   ]
  },
  {
   "cell_type": "code",
   "execution_count": 62,
   "id": "d126a388",
   "metadata": {},
   "outputs": [
    {
     "data": {
      "image/png": "[encoded data removed]",
      "text/plain": [
       "<Figure size 1152x576 with 1 Axes>"
      ]
     },
     "metadata": {
      "needs_background": "light"
     },
     "output_type": "display_data"
    }
   ],
   "source": [
    "# 可视化显示DOM_MW的数据分布情况\n",
    "\n",
    "dataset['江西省'].plot(figsize=(16,8))\n",
    "plt.show()"
   ]
  },
  {
   "cell_type": "code",
   "execution_count": 64,
   "id": "f1717590",
   "metadata": {},
   "outputs": [],
   "source": [
    "# 数据进行归一化\n",
    "\n",
    "scaler = MinMaxScaler()\n",
    "\n",
    "dataset['江西省'] = scaler.fit_transform(dataset['江西省'].values.reshape(-1, 1))"
   ]
  },
  {
   "cell_type": "code",
   "execution_count": 65,
   "id": "97b911c0",
   "metadata": {},
   "outputs": [
    {
     "data": {
      "text/html": [
       "<div>\n",
       "<style scoped>\n",
       "    .dataframe tbody tr th:only-of-type {\n",
       "        vertical-align: middle;\n",
       "    }\n",
       "\n",
       "    .dataframe tbody tr th {\n",
       "        vertical-align: top;\n",
       "    }\n",
       "\n",
       "    .dataframe thead th {\n",
       "        text-align: right;\n",
       "    }\n",
       "</style>\n",
       "<table border=\"1\" class=\"dataframe\">\n",
       "  <thead>\n",
       "    <tr style=\"text-align: right;\">\n",
       "      <th></th>\n",
       "      <th>江西省</th>\n",
       "      <th>南昌市</th>\n",
       "      <th>景德镇市</th>\n",
       "      <th>萍乡市</th>\n",
       "      <th>九江市</th>\n",
       "      <th>新余市</th>\n",
       "      <th>鹰潭市</th>\n",
       "      <th>赣州市</th>\n",
       "      <th>吉安市</th>\n",
       "      <th>宜春市</th>\n",
       "      <th>抚州市</th>\n",
       "      <th>上饶市</th>\n",
       "    </tr>\n",
       "  </thead>\n",
       "  <tbody>\n",
       "    <tr>\n",
       "      <th>2000</th>\n",
       "      <td>0.139662</td>\n",
       "      <td>736.250475</td>\n",
       "      <td>191.548481</td>\n",
       "      <td>177.205198</td>\n",
       "      <td>619.502447</td>\n",
       "      <td>215.698632</td>\n",
       "      <td>216.631655</td>\n",
       "      <td>1078.029471</td>\n",
       "      <td>1110.368063</td>\n",
       "      <td>1202.178139</td>\n",
       "      <td>841.635627</td>\n",
       "      <td>929.563308</td>\n",
       "    </tr>\n",
       "    <tr>\n",
       "      <th>2001</th>\n",
       "      <td>0.118667</td>\n",
       "      <td>733.348364</td>\n",
       "      <td>186.691805</td>\n",
       "      <td>171.298964</td>\n",
       "      <td>616.850311</td>\n",
       "      <td>217.873308</td>\n",
       "      <td>216.296654</td>\n",
       "      <td>1081.389128</td>\n",
       "      <td>1113.798678</td>\n",
       "      <td>1194.325272</td>\n",
       "      <td>849.408622</td>\n",
       "      <td>930.370928</td>\n",
       "    </tr>\n",
       "    <tr>\n",
       "      <th>2002</th>\n",
       "      <td>0.107808</td>\n",
       "      <td>722.529652</td>\n",
       "      <td>190.299335</td>\n",
       "      <td>175.752485</td>\n",
       "      <td>602.164893</td>\n",
       "      <td>214.138226</td>\n",
       "      <td>215.960984</td>\n",
       "      <td>1131.087879</td>\n",
       "      <td>1126.030075</td>\n",
       "      <td>1193.239955</td>\n",
       "      <td>815.395192</td>\n",
       "      <td>919.693075</td>\n",
       "    </tr>\n",
       "    <tr>\n",
       "      <th>2003</th>\n",
       "      <td>0.000000</td>\n",
       "      <td>704.345102</td>\n",
       "      <td>184.232497</td>\n",
       "      <td>165.573317</td>\n",
       "      <td>585.197343</td>\n",
       "      <td>208.793316</td>\n",
       "      <td>215.045473</td>\n",
       "      <td>1080.386473</td>\n",
       "      <td>1068.846891</td>\n",
       "      <td>1090.236335</td>\n",
       "      <td>947.578047</td>\n",
       "      <td>837.749459</td>\n",
       "    </tr>\n",
       "    <tr>\n",
       "      <th>2004</th>\n",
       "      <td>0.341279</td>\n",
       "      <td>746.373703</td>\n",
       "      <td>197.918960</td>\n",
       "      <td>176.709791</td>\n",
       "      <td>621.749893</td>\n",
       "      <td>225.589485</td>\n",
       "      <td>218.799596</td>\n",
       "      <td>1176.419119</td>\n",
       "      <td>1190.452673</td>\n",
       "      <td>1141.283308</td>\n",
       "      <td>1011.753815</td>\n",
       "      <td>922.600367</td>\n",
       "    </tr>\n",
       "  </tbody>\n",
       "</table>\n",
       "</div>"
      ],
      "text/plain": [
       "           江西省         南昌市        景德镇市         萍乡市         九江市         新余市  \\\n",
       "2000  0.139662  736.250475  191.548481  177.205198  619.502447  215.698632   \n",
       "2001  0.118667  733.348364  186.691805  171.298964  616.850311  217.873308   \n",
       "2002  0.107808  722.529652  190.299335  175.752485  602.164893  214.138226   \n",
       "2003  0.000000  704.345102  184.232497  165.573317  585.197343  208.793316   \n",
       "2004  0.341279  746.373703  197.918960  176.709791  621.749893  225.589485   \n",
       "\n",
       "             鹰潭市          赣州市          吉安市          宜春市          抚州市  \\\n",
       "2000  216.631655  1078.029471  1110.368063  1202.178139   841.635627   \n",
       "2001  216.296654  1081.389128  1113.798678  1194.325272   849.408622   \n",
       "2002  215.960984  1131.087879  1126.030075  1193.239955   815.395192   \n",
       "2003  215.045473  1080.386473  1068.846891  1090.236335   947.578047   \n",
       "2004  218.799596  1176.419119  1190.452673  1141.283308  1011.753815   \n",
       "\n",
       "             上饶市  \n",
       "2000  929.563308  \n",
       "2001  930.370928  \n",
       "2002  919.693075  \n",
       "2003  837.749459  \n",
       "2004  922.600367  "
      ]
     },
     "execution_count": 65,
     "metadata": {},
     "output_type": "execute_result"
    }
   ],
   "source": [
    "# 均值为0，标准差为1\n",
    "\n",
    "dataset.head()"
   ]
  },
  {
   "cell_type": "code",
   "execution_count": 66,
   "id": "100fe2bd",
   "metadata": {},
   "outputs": [
    {
     "data": {
      "image/png": "[encoded data removed]",
      "text/plain": [
       "<Figure size 1152x576 with 1 Axes>"
      ]
     },
     "metadata": {
      "needs_background": "light"
     },
     "output_type": "display_data"
    }
   ],
   "source": [
    "# 可视化显示DOM_MW的数据分布情况\n",
    "\n",
    "dataset['江西省'].plot(figsize=(16,8))\n",
    "plt.show()"
   ]
  },
  {
   "cell_type": "markdown",
   "id": "8a013e8d",
   "metadata": {},
   "source": [
    "### 第2步：特征工程"
   ]
  },
  {
   "cell_type": "code",
   "execution_count": 67,
   "id": "32e24764",
   "metadata": {},
   "outputs": [],
   "source": [
    "# 功能函数：构造特征数据集和标签集\n",
    "\n",
    "def create_new_dataset(dataset, seq_len = 12):\n",
    "    '''基于原始数据集构造新的序列特征数据集\n",
    "    Params:\n",
    "        dataset : 原始数据集\n",
    "        seq_len : 序列长度（时间跨度）\n",
    "    \n",
    "    Returns:\n",
    "        X, y\n",
    "    '''\n",
    "    X = [] # 初始特征数据集为空列表\n",
    "    y = [] # 初始标签数据集为空列表\n",
    "    \n",
    "    start = 0 # 初始位置\n",
    "    end = dataset.shape[0] - seq_len # 截止位置\n",
    "    \n",
    "    for i in range(start, end): # for循环构造特征数据集\n",
    "        sample = dataset[i : i+seq_len] # 基于时间跨度seq_len创建样本\n",
    "        label = dataset[i+seq_len] # 创建sample对应的标签\n",
    "        X.append(sample) # 保存sample\n",
    "        y.append(label) # 保存label\n",
    "    \n",
    "    # 返回特征数据集和标签集\n",
    "    return np.array(X), np.array(y)"
   ]
  },
  {
   "cell_type": "code",
   "execution_count": 68,
   "id": "17dd143e",
   "metadata": {},
   "outputs": [],
   "source": [
    "# 功能函数：基于新的特征的数据集和标签集，切分：X_train, X_test\n",
    "\n",
    "def split_dataset(X, y, train_ratio=0.8):\n",
    "    '''基于X和y，切分为train和test\n",
    "    Params:\n",
    "        X : 特征数据集\n",
    "        y : 标签数据集\n",
    "        train_ratio : 训练集占X的比例\n",
    "    \n",
    "    Returns:\n",
    "        X_train, X_test, y_train, y_test\n",
    "    '''\n",
    "    X_len = len(X) # 特征数据集X的样本数量\n",
    "    train_data_len = int(X_len * train_ratio) # 训练集的样本数量\n",
    "    \n",
    "    X_train = X[:train_data_len] # 训练集\n",
    "    y_train = y[:train_data_len] # 训练标签集\n",
    "    \n",
    "    X_test = X[train_data_len:] # 测试集\n",
    "    y_test = y[train_data_len:] # 测试集标签集\n",
    "    \n",
    "    # 返回值\n",
    "    return X_train, X_test, y_train, y_test"
   ]
  },
  {
   "cell_type": "code",
   "execution_count": 69,
   "id": "f88e6f1d",
   "metadata": {},
   "outputs": [],
   "source": [
    "# 功能函数：基于新的X_train, X_test, y_train, y_test创建批数据(batch dataset)\n",
    "\n",
    "def create_batch_data(X, y, batch_size=32, data_type=1):\n",
    "    '''基于训练集和测试集，创建批数据\n",
    "    Params:\n",
    "        X : 特征数据集\n",
    "        y : 标签数据集\n",
    "        batch_size : batch的大小，即一个数据块里面有几个样本\n",
    "        data_type : 数据集类型（测试集表示1，训练集表示2）\n",
    "   \n",
    "    Returns:\n",
    "        train_batch_data 或 test_batch_data\n",
    "    '''\n",
    "    if data_type == 1: # 测试集\n",
    "        dataset = tf.data.Dataset.from_tensor_slices((tf.constant(X), tf.constant(y))) # 封装X和y，成为tensor类型\n",
    "        test_batch_data = dataset.batch(batch_size) # 构造批数据\n",
    "        # 返回\n",
    "        return test_batch_data\n",
    "    else: # 训练集\n",
    "        dataset = tf.data.Dataset.from_tensor_slices((tf.constant(X), tf.constant(y))) # 封装X和y，成为tensor类型\n",
    "        train_batch_data = dataset.cache().shuffle(1000).batch(batch_size) # 构造批数据\n",
    "        # 返回\n",
    "        return train_batch_data"
   ]
  },
  {
   "cell_type": "code",
   "execution_count": 77,
   "id": "ac80fe42",
   "metadata": {},
   "outputs": [],
   "source": [
    "# ① 原始数据集\n",
    "\n",
    "dataset_original = dataset[\"江西省\"]"
   ]
  },
  {
   "cell_type": "code",
   "execution_count": 78,
   "id": "f0baf28e",
   "metadata": {},
   "outputs": [
    {
     "name": "stdout",
     "output_type": "stream",
     "text": [
      "原始数据集:  (21,)\n"
     ]
    }
   ],
   "source": [
    "print(\"原始数据集: \", dataset_original.shape)"
   ]
  },
  {
   "cell_type": "code",
   "execution_count": 79,
   "id": "f999fb3d",
   "metadata": {},
   "outputs": [],
   "source": [
    "# ② 构造特征数据集和标签集，seq_len序列长度为12小时\n",
    "\n",
    "SEQ_LEN = 6 # 序列长度\n",
    "\n",
    "X, y = create_new_dataset(dataset_original.values, seq_len = SEQ_LEN)"
   ]
  },
  {
   "cell_type": "code",
   "execution_count": 80,
   "id": "e084cfa8",
   "metadata": {},
   "outputs": [
    {
     "data": {
      "text/plain": [
       "(15, 6)"
      ]
     },
     "execution_count": 80,
     "metadata": {},
     "output_type": "execute_result"
    }
   ],
   "source": [
    "X.shape"
   ]
  },
  {
   "cell_type": "code",
   "execution_count": 81,
   "id": "75360903",
   "metadata": {},
   "outputs": [
    {
     "data": {
      "text/plain": [
       "(15,)"
      ]
     },
     "execution_count": 81,
     "metadata": {},
     "output_type": "execute_result"
    }
   ],
   "source": [
    "y.shape"
   ]
  },
  {
   "cell_type": "code",
   "execution_count": 82,
   "id": "bfae1c91",
   "metadata": {},
   "outputs": [
    {
     "data": {
      "text/plain": [
       "array([0.13966155, 0.11866729, 0.10780824, 0.        , 0.34127917,\n",
       "       0.48600507])"
      ]
     },
     "execution_count": 82,
     "metadata": {},
     "output_type": "execute_result"
    }
   ],
   "source": [
    "# 样本1 - 特征数据\n",
    "\n",
    "X[0]"
   ]
  },
  {
   "cell_type": "code",
   "execution_count": 83,
   "id": "184aa346",
   "metadata": {},
   "outputs": [
    {
     "data": {
      "text/plain": [
       "0.5727186247307934"
      ]
     },
     "execution_count": 83,
     "metadata": {},
     "output_type": "execute_result"
    }
   ],
   "source": [
    "# 样本1 - 标签\n",
    "\n",
    "y[0]"
   ]
  },
  {
   "cell_type": "code",
   "execution_count": 84,
   "id": "91ded253",
   "metadata": {},
   "outputs": [],
   "source": [
    "# ③ 数据集切分\n",
    "\n",
    "X_train, X_test, y_train, y_test = split_dataset(X, y, train_ratio=0.9)"
   ]
  },
  {
   "cell_type": "code",
   "execution_count": 85,
   "id": "8027c1ed",
   "metadata": {},
   "outputs": [
    {
     "data": {
      "text/plain": [
       "(13, 6)"
      ]
     },
     "execution_count": 85,
     "metadata": {},
     "output_type": "execute_result"
    }
   ],
   "source": [
    "X_train.shape"
   ]
  },
  {
   "cell_type": "code",
   "execution_count": 86,
   "id": "ba6c26ed",
   "metadata": {},
   "outputs": [
    {
     "data": {
      "text/plain": [
       "(2, 6)"
      ]
     },
     "execution_count": 86,
     "metadata": {},
     "output_type": "execute_result"
    }
   ],
   "source": [
    "X_test.shape"
   ]
  },
  {
   "cell_type": "code",
   "execution_count": 87,
   "id": "a32b5e45",
   "metadata": {},
   "outputs": [
    {
     "data": {
      "text/plain": [
       "(13,)"
      ]
     },
     "execution_count": 87,
     "metadata": {},
     "output_type": "execute_result"
    }
   ],
   "source": [
    "y_train.shape"
   ]
  },
  {
   "cell_type": "code",
   "execution_count": 88,
   "id": "ea03693a",
   "metadata": {},
   "outputs": [
    {
     "data": {
      "text/plain": [
       "(2,)"
      ]
     },
     "execution_count": 88,
     "metadata": {},
     "output_type": "execute_result"
    }
   ],
   "source": [
    "y_test.shape"
   ]
  },
  {
   "cell_type": "code",
   "execution_count": 89,
   "id": "31af1ba3",
   "metadata": {},
   "outputs": [],
   "source": [
    "# ④ 基于新的X_train, X_test, y_train, y_test创建批数据(batch dataset)\n",
    "\n",
    "# 测试批数据\n",
    "\n",
    "test_batch_dataset = create_batch_data(X_test, y_test, batch_size=4, data_type=1)"
   ]
  },
  {
   "cell_type": "code",
   "execution_count": 90,
   "id": "b3792fc4",
   "metadata": {},
   "outputs": [],
   "source": [
    "# 训练批数据\n",
    "\n",
    "train_batch_dataset = create_batch_data(X_train, y_train, batch_size=4, data_type=2)"
   ]
  },
  {
   "cell_type": "markdown",
   "id": "08da2de4",
   "metadata": {},
   "source": [
    "### 第3步：构建模型"
   ]
  },
  {
   "cell_type": "code",
   "execution_count": 91,
   "id": "cabbeacc",
   "metadata": {},
   "outputs": [],
   "source": [
    "model = Sequential([\n",
    "    layers.LSTM(8, input_shape=(SEQ_LEN, 1)),\n",
    "    layers.Dense(1)\n",
    "])"
   ]
  },
  {
   "cell_type": "code",
   "execution_count": 92,
   "id": "c9704772",
   "metadata": {},
   "outputs": [
    {
     "name": "stdout",
     "output_type": "stream",
     "text": [
      "You must install pydot (`pip install pydot`) and install graphviz (see instructions at https://graphviz.gitlab.io/download/) for plot_model/model_to_dot to work.\n"
     ]
    }
   ],
   "source": [
    "# 显示模型结构\n",
    "\n",
    "utils.plot_model(model)"
   ]
  },
  {
   "cell_type": "code",
   "execution_count": 93,
   "id": "29e7a615",
   "metadata": {},
   "outputs": [],
   "source": [
    "# 定义 checkpoint，保存权重文件\n",
    "\n",
    "file_path = \"best_checkpoint.hdf5\"\n",
    "\n",
    "checkpoint_callback = tf.keras.callbacks.ModelCheckpoint(filepath=file_path, \n",
    "                                                         monitor='loss', \n",
    "                                                         mode='min', \n",
    "                                                         save_best_only=True,\n",
    "                                                         save_weights_only=True)"
   ]
  },
  {
   "cell_type": "markdown",
   "id": "e587fb5e",
   "metadata": {},
   "source": [
    "### 第4步：模型编译、训练、验证"
   ]
  },
  {
   "cell_type": "code",
   "execution_count": 103,
   "id": "91bede62",
   "metadata": {},
   "outputs": [],
   "source": [
    "# 模型编译\n",
    "\n",
    "model.compile(optimizer='adam', loss=\"mae\")"
   ]
  },
  {
   "cell_type": "code",
   "execution_count": 104,
   "id": "b4a3ece1",
   "metadata": {
    "scrolled": true
   },
   "outputs": [
    {
     "name": "stdout",
     "output_type": "stream",
     "text": [
      "Epoch 1/20\n",
      "4/4 [==============================] - 4s 204ms/step - loss: 0.5058 - val_loss: 0.1663\n",
      "Epoch 2/20\n",
      "4/4 [==============================] - 0s 10ms/step - loss: 0.4674 - val_loss: 0.1203\n",
      "Epoch 3/20\n",
      "4/4 [==============================] - 0s 11ms/step - loss: 0.4277 - val_loss: 0.0730\n",
      "Epoch 4/20\n",
      "4/4 [==============================] - 0s 11ms/step - loss: 0.3872 - val_loss: 0.0241\n",
      "Epoch 5/20\n",
      "4/4 [==============================] - 0s 11ms/step - loss: 0.3448 - val_loss: 0.0259\n",
      "Epoch 6/20\n",
      "4/4 [==============================] - 0s 11ms/step - loss: 0.3025 - val_loss: 0.0775\n",
      "Epoch 7/20\n",
      "4/4 [==============================] - 0s 12ms/step - loss: 0.2576 - val_loss: 0.1309\n",
      "Epoch 8/20\n",
      "4/4 [==============================] - 0s 10ms/step - loss: 0.2112 - val_loss: 0.1864\n",
      "Epoch 9/20\n",
      "4/4 [==============================] - 0s 11ms/step - loss: 0.1716 - val_loss: 0.2433\n",
      "Epoch 10/20\n",
      "4/4 [==============================] - 0s 12ms/step - loss: 0.1286 - val_loss: 0.3005\n",
      "Epoch 11/20\n",
      "4/4 [==============================] - 0s 11ms/step - loss: 0.0937 - val_loss: 0.3582\n",
      "Epoch 12/20\n",
      "4/4 [==============================] - 0s 11ms/step - loss: 0.0596 - val_loss: 0.4035\n",
      "Epoch 13/20\n",
      "4/4 [==============================] - 0s 11ms/step - loss: 0.0495 - val_loss: 0.4428\n",
      "Epoch 14/20\n",
      "4/4 [==============================] - 0s 9ms/step - loss: 0.0557 - val_loss: 0.4620\n",
      "Epoch 15/20\n",
      "4/4 [==============================] - 0s 9ms/step - loss: 0.0622 - val_loss: 0.4524\n",
      "Epoch 16/20\n",
      "4/4 [==============================] - 0s 10ms/step - loss: 0.0538 - val_loss: 0.4282\n",
      "Epoch 17/20\n",
      "4/4 [==============================] - 0s 8ms/step - loss: 0.0525 - val_loss: 0.4003\n",
      "Epoch 18/20\n",
      "4/4 [==============================] - 0s 12ms/step - loss: 0.0489 - val_loss: 0.3864\n",
      "Epoch 19/20\n",
      "4/4 [==============================] - 0s 9ms/step - loss: 0.0518 - val_loss: 0.3876\n",
      "Epoch 20/20\n",
      "4/4 [==============================] - 0s 7ms/step - loss: 0.0496 - val_loss: 0.3996\n"
     ]
    }
   ],
   "source": [
    "# 模型训练\n",
    "\n",
    "history = model.fit(train_batch_dataset,\n",
    "          epochs=20,\n",
    "          validation_data=test_batch_dataset,\n",
    "          callbacks=[checkpoint_callback])"
   ]
  },
  {
   "cell_type": "code",
   "execution_count": 105,
   "id": "a9598378",
   "metadata": {},
   "outputs": [
    {
     "data": {
      "image/png": "[encoded data removed]",
      "text/plain": [
       "<Figure size 1152x576 with 1 Axes>"
      ]
     },
     "metadata": {
      "needs_background": "light"
     },
     "output_type": "display_data"
    }
   ],
   "source": [
    "# 显示 train loss 和 val loss\n",
    "\n",
    "plt.figure(figsize=(16,8))\n",
    "plt.plot(history.history['loss'], label='train loss')\n",
    "plt.plot(history.history['val_loss'], label='val loss')\n",
    "plt.title(\"LOSS\")\n",
    "plt.xlabel(\"Epochs\")\n",
    "plt.ylabel(\"Loss\")\n",
    "plt.legend(loc='best')\n",
    "plt.show()"
   ]
  },
  {
   "cell_type": "code",
   "execution_count": 106,
   "id": "3b9ff0cc",
   "metadata": {},
   "outputs": [
    {
     "name": "stdout",
     "output_type": "stream",
     "text": [
      "1/1 [==============================] - 1s 522ms/step\n"
     ]
    }
   ],
   "source": [
    "# 模型验证\n",
    "\n",
    "test_pred = model.predict(X_test, verbose=1)"
   ]
  },
  {
   "cell_type": "code",
   "execution_count": 107,
   "id": "2db8e88e",
   "metadata": {},
   "outputs": [
    {
     "data": {
      "text/plain": [
       "(2, 1)"
      ]
     },
     "execution_count": 107,
     "metadata": {},
     "output_type": "execute_result"
    }
   ],
   "source": [
    "test_pred.shape # 预测结果的shape"
   ]
  },
  {
   "cell_type": "code",
   "execution_count": 108,
   "id": "0880c750",
   "metadata": {
    "scrolled": true
   },
   "outputs": [
    {
     "data": {
      "text/plain": [
       "(2,)"
      ]
     },
     "execution_count": 108,
     "metadata": {},
     "output_type": "execute_result"
    }
   ],
   "source": [
    "y_test.shape # 真值标签的shape"
   ]
  },
  {
   "cell_type": "code",
   "execution_count": 109,
   "id": "5dfda214",
   "metadata": {},
   "outputs": [],
   "source": [
    "# 计算r2\n",
    "\n",
    "score = r2_score(y_test, test_pred)"
   ]
  },
  {
   "cell_type": "code",
   "execution_count": 110,
   "id": "bfc9e4be",
   "metadata": {},
   "outputs": [
    {
     "name": "stdout",
     "output_type": "stream",
     "text": [
      "r^2 的值：  -115918.39019730667\n"
     ]
    }
   ],
   "source": [
    "print(\"r^2 的值： \", score)"
   ]
  },
  {
   "cell_type": "code",
   "execution_count": 111,
   "id": "cffdbf29",
   "metadata": {},
   "outputs": [
    {
     "data": {
      "image/png": "[encoded data removed]",
      "text/plain": [
       "<Figure size 1152x576 with 1 Axes>"
      ]
     },
     "metadata": {
      "needs_background": "light"
     },
     "output_type": "display_data"
    }
   ],
   "source": [
    "# 绘制模型验证结果\n",
    "\n",
    "plt.figure(figsize=(16,8))\n",
    "plt.plot(y_test, label=\"True label\")\n",
    "plt.plot(test_pred, label=\"Pred label\")\n",
    "plt.title(\"True vs Pred\")\n",
    "plt.legend(loc='best')\n",
    "plt.show()"
   ]
  },
  {
   "cell_type": "code",
   "execution_count": 112,
   "id": "c86e6525",
   "metadata": {},
   "outputs": [
    {
     "data": {
      "image/png": "[encoded data removed]",
      "text/plain": [
       "<Figure size 1152x576 with 2 Axes>"
      ]
     },
     "metadata": {
      "needs_background": "light"
     },
     "output_type": "display_data"
    }
   ],
   "source": [
    "# 绘制test中前100个点的真值与预测值\n",
    "\n",
    "y_true = y_test[:100]\n",
    "y_pred = test_pred[:100]\n",
    "\n",
    "fig, axes = plt.subplots(2, 1, figsize=(16,8))\n",
    "axes[0].plot(y_true, marker='o', color='red')\n",
    "axes[1].plot(y_pred, marker='*', color='blue')\n",
    "plt.show()"
   ]
  },
  {
   "cell_type": "markdown",
   "id": "78018fe9",
   "metadata": {},
   "source": [
    "### 第5步：模型测试"
   ]
  },
  {
   "cell_type": "markdown",
   "id": "c265a6a2",
   "metadata": {},
   "source": [
    "#### ① 预测1个样本"
   ]
  },
  {
   "cell_type": "code",
   "execution_count": 114,
   "id": "f578b11a",
   "metadata": {},
   "outputs": [
    {
     "data": {
      "text/plain": [
       "(6,)"
      ]
     },
     "execution_count": 114,
     "metadata": {},
     "output_type": "execute_result"
    }
   ],
   "source": [
    "# 选择test中的最后一个样本\n",
    "sample = X_test[-1]\n",
    "\n",
    "sample.shape"
   ]
  },
  {
   "cell_type": "code",
   "execution_count": 115,
   "id": "97471de5",
   "metadata": {},
   "outputs": [
    {
     "data": {
      "text/plain": [
       "(1, 6, 1)"
      ]
     },
     "execution_count": 115,
     "metadata": {},
     "output_type": "execute_result"
    }
   ],
   "source": [
    "sample = sample.reshape(1, sample.shape[0], 1)\n",
    "\n",
    "sample.shape"
   ]
  },
  {
   "cell_type": "code",
   "execution_count": 116,
   "id": "8904dda3",
   "metadata": {},
   "outputs": [
    {
     "name": "stdout",
     "output_type": "stream",
     "text": [
      "1/1 [==============================] - 1s 527ms/step\n"
     ]
    },
    {
     "data": {
      "text/plain": [
       "array([[0.94341415]], dtype=float32)"
      ]
     },
     "execution_count": 116,
     "metadata": {},
     "output_type": "execute_result"
    }
   ],
   "source": [
    "# 模型预测\n",
    "\n",
    "sample_pred = model.predict(sample)\n",
    "\n",
    "sample_pred"
   ]
  },
  {
   "cell_type": "markdown",
   "id": "b6dc4e87",
   "metadata": {},
   "source": [
    "#### ② 预测后续20个点的值 "
   ]
  },
  {
   "cell_type": "code",
   "execution_count": 117,
   "id": "7d2fb827",
   "metadata": {},
   "outputs": [],
   "source": [
    "ture_data = X_test[-1] # 真实test的最后20个数据点"
   ]
  },
  {
   "cell_type": "code",
   "execution_count": 118,
   "id": "19ca55cb",
   "metadata": {
    "scrolled": true
   },
   "outputs": [
    {
     "data": {
      "text/plain": [
       "array([0.99107452, 1.        , 0.97853008, 0.92583949, 0.75513612,\n",
       "       0.56623954])"
      ]
     },
     "execution_count": 118,
     "metadata": {},
     "output_type": "execute_result"
    }
   ],
   "source": [
    "ture_data"
   ]
  },
  {
   "cell_type": "code",
   "execution_count": 119,
   "id": "b3c8dc51",
   "metadata": {},
   "outputs": [
    {
     "data": {
      "text/plain": [
       "(6,)"
      ]
     },
     "execution_count": 119,
     "metadata": {},
     "output_type": "execute_result"
    }
   ],
   "source": [
    "ture_data.shape"
   ]
  },
  {
   "cell_type": "code",
   "execution_count": 123,
   "id": "d6e95d8f",
   "metadata": {},
   "outputs": [],
   "source": [
    "def predict_next(model, sample, epoch=20):\n",
    "    temp1 = list(sample)\n",
    "    for i in range(epoch):\n",
    "        sample = sample.reshape(1, SEQ_LEN, 1)\n",
    "        pred = model.predict(sample)\n",
    "        value = pred.tolist()[0][0]\n",
    "        temp1.append(value)\n",
    "        sample = np.array(temp1[i+1 : i+SEQ_LEN+1])\n",
    "    return temp1"
   ]
  },
  {
   "cell_type": "code",
   "execution_count": 124,
   "id": "a46334a1",
   "metadata": {},
   "outputs": [
    {
     "name": "stdout",
     "output_type": "stream",
     "text": [
      "1/1 [==============================] - 0s 80ms/step\n",
      "1/1 [==============================] - 0s 24ms/step\n",
      "1/1 [==============================] - 0s 21ms/step\n",
      "1/1 [==============================] - 0s 22ms/step\n",
      "1/1 [==============================] - 0s 23ms/step\n",
      "1/1 [==============================] - 0s 23ms/step\n",
      "1/1 [==============================] - 0s 34ms/step\n",
      "1/1 [==============================] - 0s 18ms/step\n",
      "1/1 [==============================] - 0s 24ms/step\n",
      "1/1 [==============================] - 0s 25ms/step\n",
      "1/1 [==============================] - 0s 20ms/step\n",
      "1/1 [==============================] - 0s 23ms/step\n",
      "1/1 [==============================] - 0s 32ms/step\n",
      "1/1 [==============================] - 0s 28ms/step\n",
      "1/1 [==============================] - 0s 28ms/step\n",
      "1/1 [==============================] - 0s 19ms/step\n",
      "1/1 [==============================] - 0s 22ms/step\n",
      "1/1 [==============================] - 0s 23ms/step\n",
      "1/1 [==============================] - 0s 27ms/step\n",
      "1/1 [==============================] - 0s 26ms/step\n"
     ]
    }
   ],
   "source": [
    "preds = predict_next(model, ture_data, 20)"
   ]
  },
  {
   "cell_type": "code",
   "execution_count": 125,
   "id": "4ec44449",
   "metadata": {
    "scrolled": true
   },
   "outputs": [
    {
     "data": {
      "image/png": "[encoded data removed]",
      "text/plain": [
       "<Figure size 864x432 with 1 Axes>"
      ]
     },
     "metadata": {
      "needs_background": "light"
     },
     "output_type": "display_data"
    }
   ],
   "source": [
    "plt.figure(figsize=(12,6))\n",
    "plt.plot(preds, color='yellow', label='Prediction')\n",
    "plt.plot(ture_data, color='blue', label='Truth')\n",
    "plt.xlabel(\"Epochs\")\n",
    "plt.ylabel(\"Value\")\n",
    "plt.legend(loc='best')\n",
    "plt.show()"
   ]
  },
  {
   "cell_type": "code",
   "execution_count": null,
   "id": "8c3d4ceb",
   "metadata": {},
   "outputs": [],
   "source": []
  }
 ],
 "metadata": {
  "kernelspec": {
   "display_name": "Python 3.9.12 ('base')",
   "language": "python",
   "name": "python3"
  },
  "language_info": {
   "codemirror_mode": {
    "name": "ipython",
    "version": 3
   },
   "file_extension": ".py",
   "mimetype": "text/x-python",
   "name": "python",
   "nbconvert_exporter": "python",
   "pygments_lexer": "ipython3",
   "version": "3.9.12"
  },
  "vscode": {
   "interpreter": {
    "hash": "429c4da532d5a49305ad374da5bd9411413fc9c5f93bdb5e51c34bc796003ebd"
   }
  }
 },
 "nbformat": 4,
 "nbformat_minor": 5
}
